{
 "cells": [
  {
   "cell_type": "code",
   "execution_count": 2,
   "metadata": {
    "collapsed": false
   },
   "outputs": [],
   "source": [
    "import numpy as np\n",
    "import matplotlib.pyplot as plt\n",
    "from numba import jit, int64\n",
    "import random\n",
    "%matplotlib inline"
   ]
  },
  {
   "cell_type": "code",
   "execution_count": 3,
   "metadata": {
    "collapsed": true
   },
   "outputs": [],
   "source": [
    "def build_neighbor_pos_dictionary(n_row,n_col):\n",
    "    list_of_all_pos_in_ca = [(r,c) for r in np.arange(0,n_row) for c in np.arange(0,n_col)]\n",
    "    dict_of_neighbors_pos_lists = {pos:build_neighbor_pos_list(pos,n_row,n_col) for pos in list_of_all_pos_in_ca}\n",
    "    return dict_of_neighbors_pos_lists"
   ]
  },
  {
   "cell_type": "code",
   "execution_count": 4,
   "metadata": {
    "collapsed": true
   },
   "outputs": [],
   "source": [
    "def build_neighbor_pos_list(pos, n_row, n_col):\n",
    "    r,c = pos\n",
    "    l = [(r+i,c+j)\n",
    "         for i in [-1,0,1]\n",
    "         for j in [-1,0,1]\n",
    "         if 0 <= r+i < n_row\n",
    "         if 0 <= c+j < n_col\n",
    "         if not(j==0 and i==0)]\n",
    "    return l"
   ]
  },
  {
   "cell_type": "code",
   "execution_count": 5,
   "metadata": {
    "collapsed": true
   },
   "outputs": [],
   "source": [
    "binomial = np.random.binomial\n",
    "shuffle = np.random.shuffle\n",
    "random_choice = random.choice"
   ]
  },
  {
   "cell_type": "code",
   "execution_count": 6,
   "metadata": {
    "collapsed": true
   },
   "outputs": [],
   "source": [
    "@jit(int64(), nopython=True)\n",
    "def divide_symmetrically_q():\n",
    "    SYMMETRIC_DIVISION_PROB = 0.3\n",
    "    verdict = binomial(1, SYMMETRIC_DIVISION_PROB)\n",
    "    return verdict"
   ]
  },
  {
   "cell_type": "code",
   "execution_count": 7,
   "metadata": {
    "collapsed": true
   },
   "outputs": [],
   "source": [
    "@jit(int64(), nopython=True)\n",
    "def divide_q():\n",
    "    DIVISION_PROB = 0.0416\n",
    "    verdict = binomial(1, DIVISION_PROB)\n",
    "    return verdict"
   ]
  },
  {
   "cell_type": "code",
   "execution_count": 8,
   "metadata": {
    "collapsed": true
   },
   "outputs": [],
   "source": [
    "@jit(int64(), nopython=True)\n",
    "def die_q():\n",
    "    DEATH_PROB = 0.01\n",
    "    verdict = binomial(1,DEATH_PROB)\n",
    "    return verdict"
   ]
  },
  {
   "cell_type": "code",
   "execution_count": 9,
   "metadata": {
    "collapsed": true
   },
   "outputs": [],
   "source": [
    "class CancerCell(object):\n",
    "    def __init__(self, pos, dictionary_of_neighbor_pos_lists):\n",
    "        self.pos = pos\n",
    "        self.divisions_remaining = 10\n",
    "        self.neighbor_pos_list = dictionary_of_neighbor_pos_lists[self.pos]\n",
    "        self.PLOT_ID = 1\n",
    "        \n",
    "    def locate_empty_neighbor_position(self, agent_dictionary):\n",
    "        empty_neighbor_pos_list = [pos for pos in self.neighbor_pos_list if pos not in agent_dictionary]\n",
    "        if empty_neighbor_pos_list:\n",
    "            empty_pos = random_choice(empty_neighbor_pos_list)\n",
    "            return empty_pos\n",
    "        else:\n",
    "            return None\n",
    "    \n",
    "    def act(self, agent_dictionary, dictionary_of_neighbor_pos_lists):\n",
    "        divide = divide_q()\n",
    "        if divide == 1:\n",
    "            empty_pos = self.locate_empty_neighbor_position(agent_dictionary)\n",
    "            if empty_pos is not None:\n",
    "                daughter_cell = CancerCell(empty_pos, dictionary_of_neighbor_pos_lists)\n",
    "                agent_dictionary[empty_pos] = daughter_cell\n",
    "                \n",
    "                self.divisions_remaining -= 1\n",
    "        \n",
    "        spontaneous_death = die_q()\n",
    "        if self.divisions_remaining <= 0 or spontaneous_death ==1:\n",
    "            del agent_dictionary[self.pos]\n",
    "        "
   ]
  },
  {
   "cell_type": "code",
   "execution_count": 10,
   "metadata": {
    "collapsed": false
   },
   "outputs": [],
   "source": [
    "class CancerStemCell(CancerCell):\n",
    "    def __init__(self, pos, dictionary_of_neighbor_pos_lists):\n",
    "        super(CancerStemCell, self).__init__(pos, dictionary_of_neighbor_pos_lists)\n",
    "        self.PLOT_ID = 2\n",
    "    \n",
    "    def act(self, agent_dictionary, dictionary_of_neighbor_pos_lists):\n",
    "        divide = divide_q()\n",
    "        if divide == 1:\n",
    "            empty_pos = self.locate_empty_neighbor_position(agent_dictionary)\n",
    "            if empty_pos is not None:\n",
    "                symmetric_division = divide_symmetrically_q()\n",
    "                if symmetric_division == 1:\n",
    "                    daughter_cell = CancerStemCell(empty_pos, dictionary_of_neighbor_pos_lists)\n",
    "                else:\n",
    "                    daughter_cell = CancerCell(empty_pos, dictionary_of_neighbor_pos_lists)\n",
    "                agent_dictionary[empty_pos] = daughter_cell"
   ]
  },
  {
   "cell_type": "code",
   "execution_count": 14,
   "metadata": {
    "collapsed": false
   },
   "outputs": [],
   "source": [
    "N_ROW=2000\n",
    "N_COL=2000\n",
    "MAX_REPS=6*20*5\n",
    "DICTIONARY_OF_NEIGHBOR_POS_LISTS = build_neighbor_pos_dictionary(N_ROW,N_COL)\n",
    "center_r = int(round(N_ROW/2.0))\n",
    "center_c = int(round(N_COL/2.0))\n",
    "center_pos = (center_r, center_c)\n",
    "\n",
    "initial_cancer_stem_cell = CancerStemCell(center_pos, DICTIONARY_OF_NEIGHBOR_POS_LISTS)\n",
    "cell_dictionary = {center_pos:initial_cancer_stem_cell}\n",
    "\n",
    "for rep in range(MAX_REPS):\n",
    "    cell_list = cell_dictionary.values()\n",
    "    shuffle(cell_list)\n",
    "    for cell in cell_list:\n",
    "        cell.act(cell_dictionary, DICTIONARY_OF_NEIGHBOR_POS_LISTS)\n",
    "    "
   ]
  },
  {
   "cell_type": "code",
   "execution_count": 15,
   "metadata": {
    "collapsed": true
   },
   "outputs": [],
   "source": [
    "visualization_matrix = np.zeros((N_ROW,N_COL))\n",
    "for cell in cell_dictionary.values():\n",
    "    visualization_matrix[cell.pos] = cell.PLOT_ID\n",
    "    "
   ]
  },
  {
   "cell_type": "code",
   "execution_count": 16,
   "metadata": {
    "collapsed": false
   },
   "outputs": [
    {
     "data": {
      "text/plain": [
       "<matplotlib.image.AxesImage at 0x216113690>"
      ]
     },
     "execution_count": 16,
     "metadata": {},
     "output_type": "execute_result"
    },
    {
     "data": {
      "image/png": "[encoded data removed]",
      "text/plain": [
       "<matplotlib.figure.Figure at 0x107bcbb10>"
      ]
     },
     "metadata": {},
     "output_type": "display_data"
    }
   ],
   "source": [
    "plt.imshow(visualization_matrix, interpolation='none', cmap='seismic', vmin=0, vmax=2)"
   ]
  },
  {
   "cell_type": "markdown",
   "metadata": {
    "collapsed": true
   },
   "source": [
    "Now we give 1 fraction of RT, dose 2Gy, $\\alpha$/$\\beta$ = 10"
   ]
  },
  {
   "cell_type": "code",
   "execution_count": 17,
   "metadata": {
    "collapsed": false
   },
   "outputs": [],
   "source": [
    "cell_list = cell_dictionary.values()"
   ]
  },
  {
   "cell_type": "markdown",
   "metadata": {},
   "source": [
    "N= number of cancer cells in the tumour"
   ]
  },
  {
   "cell_type": "code",
   "execution_count": 46,
   "metadata": {
    "collapsed": false
   },
   "outputs": [],
   "source": [
    "N=len(cell_list)\n",
    "alpha_beta_ratio=3\n",
    "dose=2\n",
    "RT_DEATH_PROB = 1 - (np.exp(-alpha_beta_ratio*dose - dose*dose))"
   ]
  },
  {
   "cell_type": "code",
   "execution_count": 48,
   "metadata": {
    "collapsed": false
   },
   "outputs": [],
   "source": [
    "for cell in cell_list:\n",
    "    verdict = binomial(1,RT_DEATH_PROB)\n",
    "    if verdict==1:\n",
    "        cell_list.remove(cell)"
   ]
  },
  {
   "cell_type": "code",
   "execution_count": 49,
   "metadata": {
    "collapsed": false
   },
   "outputs": [
    {
     "data": {
      "text/plain": [
       "1474"
      ]
     },
     "execution_count": 49,
     "metadata": {},
     "output_type": "execute_result"
    }
   ],
   "source": [
    "len(cell_list)"
   ]
  },
  {
   "cell_type": "code",
   "execution_count": 47,
   "metadata": {
    "collapsed": false
   },
   "outputs": [
    {
     "data": {
      "text/plain": [
       "0.99995460007023751"
      ]
     },
     "execution_count": 47,
     "metadata": {},
     "output_type": "execute_result"
    }
   ],
   "source": [
    "RT_DEATH_PROB"
   ]
  },
  {
   "cell_type": "code",
   "execution_count": null,
   "metadata": {
    "collapsed": true
   },
   "outputs": [],
   "source": []
  }
 ],
 "metadata": {
  "kernelspec": {
   "display_name": "Python 2",
   "language": "python",
   "name": "python2"
  },
  "language_info": {
   "codemirror_mode": {
    "name": "ipython",
    "version": 2
   },
   "file_extension": ".py",
   "mimetype": "text/x-python",
   "name": "python",
   "nbconvert_exporter": "python",
   "pygments_lexer": "ipython2",
   "version": "2.7.10"
  }
 },
 "nbformat": 4,
 "nbformat_minor": 0
}
